{
  "nbformat": 4,
  "nbformat_minor": 0,
  "metadata": {
    "colab": {
      "name": "soup_namegen.ipynb",
      "version": "0.3.2",
      "provenance": [],
      "collapsed_sections": []
    },
    "kernelspec": {
      "name": "python3",
      "display_name": "Python 3"
    },
    "accelerator": "GPU"
  },
  "cells": [
    {
      "cell_type": "code",
      "metadata": {
        "id": "cFRzb1HRFyrQ",
        "colab_type": "code",
        "outputId": "6594c74c-c65d-4d3e-d2fc-3cbda1a9992d",
        "colab": {
          "base_uri": "https://localhost:8080/",
          "height": 425
        }
      },
      "source": [
        "!pip install sng\n",
        "import os\n",
        "import sys\n",
        "sys.path.insert(0, os.path.abspath('../../'))"
      ],
      "execution_count": 0,
      "outputs": [
        {
          "output_type": "stream",
          "text": [
            "Requirement already satisfied: sng in /usr/local/lib/python3.6/dist-packages (0.3.2)\n",
            "Requirement already satisfied: numpy in /usr/local/lib/python3.6/dist-packages (from sng) (1.16.4)\n",
            "Requirement already satisfied: keras in /usr/local/lib/python3.6/dist-packages (from sng) (2.2.4)\n",
            "Requirement already satisfied: pyyaml in /usr/local/lib/python3.6/dist-packages (from sng) (3.13)\n",
            "Requirement already satisfied: tensorflow in /usr/local/lib/python3.6/dist-packages (from sng) (1.14.0)\n",
            "Requirement already satisfied: keras-preprocessing>=1.0.5 in /usr/local/lib/python3.6/dist-packages (from keras->sng) (1.1.0)\n",
            "Requirement already satisfied: scipy>=0.14 in /usr/local/lib/python3.6/dist-packages (from keras->sng) (1.3.0)\n",
            "Requirement already satisfied: h5py in /usr/local/lib/python3.6/dist-packages (from keras->sng) (2.8.0)\n",
            "Requirement already satisfied: six>=1.9.0 in /usr/local/lib/python3.6/dist-packages (from keras->sng) (1.12.0)\n",
            "Requirement already satisfied: keras-applications>=1.0.6 in /usr/local/lib/python3.6/dist-packages (from keras->sng) (1.0.8)\n",
            "Requirement already satisfied: gast>=0.2.0 in /usr/local/lib/python3.6/dist-packages (from tensorflow->sng) (0.2.2)\n",
            "Requirement already satisfied: wheel>=0.26 in /usr/local/lib/python3.6/dist-packages (from tensorflow->sng) (0.33.4)\n",
            "Requirement already satisfied: google-pasta>=0.1.6 in /usr/local/lib/python3.6/dist-packages (from tensorflow->sng) (0.1.7)\n",
            "Requirement already satisfied: astor>=0.6.0 in /usr/local/lib/python3.6/dist-packages (from tensorflow->sng) (0.8.0)\n",
            "Requirement already satisfied: wrapt>=1.11.1 in /usr/local/lib/python3.6/dist-packages (from tensorflow->sng) (1.11.2)\n",
            "Requirement already satisfied: tensorflow-estimator<1.15.0rc0,>=1.14.0rc0 in /usr/local/lib/python3.6/dist-packages (from tensorflow->sng) (1.14.0)\n",
            "Requirement already satisfied: grpcio>=1.8.6 in /usr/local/lib/python3.6/dist-packages (from tensorflow->sng) (1.15.0)\n",
            "Requirement already satisfied: absl-py>=0.7.0 in /usr/local/lib/python3.6/dist-packages (from tensorflow->sng) (0.7.1)\n",
            "Requirement already satisfied: termcolor>=1.1.0 in /usr/local/lib/python3.6/dist-packages (from tensorflow->sng) (1.1.0)\n",
            "Requirement already satisfied: tensorboard<1.15.0,>=1.14.0 in /usr/local/lib/python3.6/dist-packages (from tensorflow->sng) (1.14.0)\n",
            "Requirement already satisfied: protobuf>=3.6.1 in /usr/local/lib/python3.6/dist-packages (from tensorflow->sng) (3.7.1)\n",
            "Requirement already satisfied: werkzeug>=0.11.15 in /usr/local/lib/python3.6/dist-packages (from tensorboard<1.15.0,>=1.14.0->tensorflow->sng) (0.15.5)\n",
            "Requirement already satisfied: markdown>=2.6.8 in /usr/local/lib/python3.6/dist-packages (from tensorboard<1.15.0,>=1.14.0->tensorflow->sng) (3.1.1)\n",
            "Requirement already satisfied: setuptools>=41.0.0 in /usr/local/lib/python3.6/dist-packages (from tensorboard<1.15.0,>=1.14.0->tensorflow->sng) (41.0.1)\n"
          ],
          "name": "stdout"
        }
      ]
    },
    {
      "cell_type": "code",
      "metadata": {
        "id": "w_b-Q2ZaGDdr",
        "colab_type": "code",
        "colab": {}
      },
      "source": [
        "import sng"
      ],
      "execution_count": 0,
      "outputs": []
    },
    {
      "cell_type": "code",
      "metadata": {
        "id": "kO-I7hM2GEah",
        "colab_type": "code",
        "outputId": "65f29692-41f5-4e47-ce8d-594604c74b03",
        "colab": {
          "base_uri": "https://localhost:8080/",
          "height": 187
        }
      },
      "source": [
        "cfg = sng.Config(\n",
        "    epochs=250\n",
        ")\n",
        "cfg.to_dict()"
      ],
      "execution_count": 0,
      "outputs": [
        {
          "output_type": "execute_result",
          "data": {
            "text/plain": [
              "{'batch_size': 64,\n",
              " 'debug': True,\n",
              " 'epochs': 250,\n",
              " 'hidden_dim': 50,\n",
              " 'max_word_len': 12,\n",
              " 'min_word_len': 4,\n",
              " 'n_layers': 2,\n",
              " 'suffix': '',\n",
              " 'temperature': 1.0,\n",
              " 'verbose': True}"
            ]
          },
          "metadata": {
            "tags": []
          },
          "execution_count": 12
        }
      ]
    },
    {
      "cell_type": "code",
      "metadata": {
        "id": "s7sbeg0KGER5",
        "colab_type": "code",
        "outputId": "c4d1a6fa-98f5-4516-d3a1-9e8e6a8fe526",
        "colab": {
          "base_uri": "https://localhost:8080/",
          "height": 187
        }
      },
      "source": [
        "sng.show_builtin_wordlists()"
      ],
      "execution_count": 0,
      "outputs": [
        {
          "output_type": "execute_result",
          "data": {
            "text/plain": [
              "['french.txt',\n",
              " 'black-speech.txt',\n",
              " 'german.txt',\n",
              " 'greek.txt',\n",
              " 'gallic.txt',\n",
              " 'behemoth.txt',\n",
              " 'english.txt',\n",
              " 'lorem-ipsum.txt',\n",
              " 'pokemon.txt',\n",
              " 'latin.txt']"
            ]
          },
          "metadata": {
            "tags": []
          },
          "execution_count": 13
        }
      ]
    },
    {
      "cell_type": "code",
      "metadata": {
        "id": "-MpO_oVUGEJx",
        "colab_type": "code",
        "colab": {}
      },
      "source": [
        "greek = sng.load_builtin_wordlist('greek.txt')\n",
        "#latin = sng.load_builtin_wordlist('latin.txt')\n",
        "#english = sng.load_builtin_wordlist('english.txt')\n",
        "#french = sng.load_builtin_wordlist('french.txt')"
      ],
      "execution_count": 0,
      "outputs": []
    },
    {
      "cell_type": "code",
      "metadata": {
        "id": "T2qOGMdoGD7f",
        "colab_type": "code",
        "outputId": "2ac35cf4-0908-4239-c5c0-7dde195ec84c",
        "colab": {
          "base_uri": "https://localhost:8080/",
          "height": 1000
        }
      },
      "source": [
        "greek[:150]\n",
        "#latin[:150]\n",
        "#engish[:150]\n",
        "#french[:150]"
      ],
      "execution_count": 0,
      "outputs": [
        {
          "output_type": "execute_result",
          "data": {
            "text/plain": [
              "['dunamis',\n",
              " 'moichalis',\n",
              " 'diabolos',\n",
              " 'aion',\n",
              " 'ouranos',\n",
              " 'pantote',\n",
              " 'teras',\n",
              " 'amen',\n",
              " 'christos',\n",
              " 'diangello',\n",
              " 'kerusso',\n",
              " 'katangello',\n",
              " 'euangelizo',\n",
              " 'proeuangelizomai',\n",
              " 'apostolos',\n",
              " 'anastasis',\n",
              " 'egeiro',\n",
              " 'aitema',\n",
              " 'aiteo',\n",
              " 'ekklesia',\n",
              " 'exousia',\n",
              " 'phobos',\n",
              " 'baptizo',\n",
              " 'desis',\n",
              " 'deomai',\n",
              " 'pisteuo',\n",
              " 'makarios',\n",
              " 'episkopos',\n",
              " 'blasphemeo',\n",
              " 'makarios',\n",
              " 'kauchaomai',\n",
              " 'soma',\n",
              " 'somatikos',\n",
              " 'moichalis',\n",
              " 'genna',\n",
              " 'thapto',\n",
              " 'thanatos',\n",
              " 'christos',\n",
              " 'ekklesia',\n",
              " 'teleios',\n",
              " 'parakaleo',\n",
              " 'ekklesia',\n",
              " 'diatheke',\n",
              " 'skotia',\n",
              " 'skotos',\n",
              " 'diakonos',\n",
              " 'nekro',\n",
              " 'nekros',\n",
              " 'thanatos',\n",
              " 'apostolos',\n",
              " 'daimonion',\n",
              " 'thelo',\n",
              " 'miseo',\n",
              " 'apollumi',\n",
              " 'diabolos',\n",
              " 'dialektos',\n",
              " 'apothnesko',\n",
              " 'thnesko',\n",
              " 'teleutao',\n",
              " 'thlibo',\n",
              " 'dialegomai',\n",
              " 'apoluo',\n",
              " 'apoluo',\n",
              " 'didache',\n",
              " 'ge',\n",
              " 'presbuteros',\n",
              " 'parakaleo',\n",
              " 'telos',\n",
              " 'aionios',\n",
              " 'euangelistes',\n",
              " 'daimonion',\n",
              " 'apokteino',\n",
              " 'pistis',\n",
              " 'charis',\n",
              " 'phobos',\n",
              " 'aionios',\n",
              " 'sarx',\n",
              " 'poimne',\n",
              " 'aionios',\n",
              " 'charis',\n",
              " 'eleutheros',\n",
              " 'prautes',\n",
              " 'charisma',\n",
              " 'dorea',\n",
              " 'charisma',\n",
              " 'apodekato',\n",
              " 'tenth',\n",
              " 'dekate',\n",
              " 'dekatos',\n",
              " 'dekato',\n",
              " 'doxa',\n",
              " 'euangelion',\n",
              " 'hegemon',\n",
              " 'charis',\n",
              " 'hades',\n",
              " 'thlibo',\n",
              " 'miseo',\n",
              " 'kephale',\n",
              " 'kardia',\n",
              " 'ouranos',\n",
              " 'epouranios',\n",
              " 'genna',\n",
              " 'parakletos',\n",
              " 'agape',\n",
              " 'agapao',\n",
              " 'hagios',\n",
              " 'hagnos',\n",
              " 'doxa',\n",
              " 'anthropos',\n",
              " 'charis',\n",
              " 'aner',\n",
              " 'enteuxis',\n",
              " 'krima',\n",
              " 'krino',\n",
              " 'apokteino',\n",
              " 'thuo',\n",
              " 'basileia',\n",
              " 'kopiao',\n",
              " 'kopos',\n",
              " 'glossa',\n",
              " 'nomos',\n",
              " 'nomikos',\n",
              " 'hegeomai',\n",
              " 'proistemi',\n",
              " 'hegemon',\n",
              " 'amen',\n",
              " 'gramma',\n",
              " 'zao',\n",
              " 'zoe',\n",
              " 'phos',\n",
              " 'apollumi',\n",
              " 'agape',\n",
              " 'agapao',\n",
              " 'aner',\n",
              " 'anthropos',\n",
              " 'gameo',\n",
              " 'teleios',\n",
              " 'praus',\n",
              " 'logos',\n",
              " 'thnesko',\n",
              " 'phoneuo',\n",
              " 'phoneus',\n",
              " 'onoma',\n",
              " 'presbuteros',\n",
              " 'episkopos',\n",
              " 'paradeisos',\n",
              " 'poimen',\n",
              " 'misthos',\n",
              " 'anthropos',\n",
              " 'teleios']"
            ]
          },
          "metadata": {
            "tags": []
          },
          "execution_count": 15
        }
      ]
    },
    {
      "cell_type": "code",
      "metadata": {
        "id": "veijzSeKGeG9",
        "colab_type": "code",
        "outputId": "6689a871-00f0-4f39-c713-078625b08d3b",
        "colab": {
          "base_uri": "https://localhost:8080/",
          "height": 136
        }
      },
      "source": [
        "gen = sng.Generator(wordlist=greek, config=cfg)"
      ],
      "execution_count": 0,
      "outputs": [
        {
          "output_type": "stream",
          "text": [
            "154 words\n",
            "\n",
            "21 characters, including the \\n:\n",
            "['\\n', 'a', 'b', 'c', 'd', 'e', 'g', 'h', 'i', 'k', 'l', 'm', 'n', 'o', 'p', 'r', 's', 't', 'u', 'x', 'z']\n",
            "\n",
            "First two sample words:\n",
            "['dorea\\n', 'hades\\n']\n"
          ],
          "name": "stdout"
        }
      ]
    },
    {
      "cell_type": "code",
      "metadata": {
        "id": "fRpN6JRyGdwa",
        "colab_type": "code",
        "outputId": "042d3eee-e2f4-4768-9edd-9401b45ffa3a",
        "colab": {
          "base_uri": "https://localhost:8080/",
          "height": 442
        }
      },
      "source": [
        "gen.fit()"
      ],
      "execution_count": 0,
      "outputs": [
        {
          "output_type": "stream",
          "text": [
            "epoch 0 words: Ednmnzpx, Hdzdzzxihdkc, Zezlnsosd, Ghoipltltu, loss: 1.7689\n",
            "epoch 10 words: Cikna, Lkaltsgo, Brtpmom, Boorotm, loss: 1.543\n",
            "epoch 20 words: Nxmzhtmso, Ngtiiin, Bkmoroiasess, Eiuetess, loss: 1.5145\n",
            "epoch 30 words: Dehgmeos, Tanhzis, Mgatxes, Apeniu, loss: 1.496\n",
            "epoch 40 words: Guasno, Soao, Sggaso, Brmazn, loss: 1.4778\n",
            "epoch 50 words: Klapo, Cocieoa, Lohn, Otnlio, loss: 1.4635\n",
            "epoch 60 words: Doegeaoo, Xnrtoloa, Aaeuittasaoo, Rhimooo, loss: 1.4458\n",
            "epoch 70 words: Kitraaols, Sguur, Hgoltiils, Zgses, loss: 1.4248\n",
            "epoch 80 words: Bxkoo, Rrsaamluedsi, Goaaaalz, Uroehhaclaei, loss: 1.3937\n",
            "epoch 90 words: Colkrio, Oekapeessia, Tatholoma, Pstceenios, loss: 1.3653\n",
            "epoch 100 words: Eorlalei, Iiehaloemebs, Nepaumom, Umahugeilo, loss: 1.3245\n",
            "epoch 110 words: Nnto, Dcihnos, Cususuaaa, Irios, loss: 1.2885\n",
            "epoch 120 words: Uaunealgo, Reregetrosuo, Eetroiss, Akhupo, loss: 1.2399\n",
            "epoch 130 words: Gnartospo, Inuoha, Sepneksieo, Ucemimhiao, loss: 1.2078\n",
            "epoch 140 words: Uoxmhaos, Ooxna, Geiu, Rlei, loss: 1.1729\n",
            "epoch 150 words: Aneri, Oirania, Rminkos, Labbhotas, loss: 1.1448\n",
            "epoch 160 words: Utatemio, Oimasianalet, Trapagisme, Epomagalei, loss: 1.1165\n",
            "epoch 170 words: Ppeur, Losniio, Oosi, Eaniloi, loss: 1.0861\n",
            "epoch 180 words: Zineo, Iros, Kmara, Ukanegas, loss: 1.0607\n",
            "epoch 190 words: Ohralos, Rrakumenis, Axniss, Inos, loss: 1.0359\n",
            "epoch 200 words: Pekgau, Okosmao, Oumagallomai, Osnos, loss: 1.0169\n",
            "epoch 210 words: Rotamapo, Egapakos, Oponotes, Onheio, loss: 0.9899\n",
            "epoch 220 words: Eoalhoiia, Oxomias, Lerusahioxa, Ukera, loss: 0.9627\n",
            "epoch 230 words: Armenmis, Ogea, Mabitelois, Uanatelo, loss: 0.9397\n",
            "epoch 240 words: Ketonao, Osmeliko, Ubenteliieo, Opateu, loss: 0.9155\n"
          ],
          "name": "stdout"
        }
      ]
    },
    {
      "cell_type": "code",
      "metadata": {
        "id": "RoLhArwrGdis",
        "colab_type": "code",
        "outputId": "4544b9f9-a8f8-4953-9bc5-4d9bd7720b89",
        "colab": {
          "base_uri": "https://localhost:8080/",
          "height": 867
        }
      },
      "source": [
        "gen.simulate(n=50)"
      ],
      "execution_count": 0,
      "outputs": [
        {
          "output_type": "execute_result",
          "data": {
            "text/plain": [
              "['Uschrisn',\n",
              " 'Stos',\n",
              " 'Ienras',\n",
              " 'Aouchalio',\n",
              " 'Agnmislon',\n",
              " 'Udonaatai',\n",
              " 'Aireinon',\n",
              " 'Sikos',\n",
              " 'Nasteus',\n",
              " 'Aianrelio',\n",
              " 'Aotaaiia',\n",
              " 'Granzos',\n",
              " 'Uartelistos',\n",
              " 'Hholeo',\n",
              " 'Gatispos',\n",
              " 'Aiso',\n",
              " 'Astonios',\n",
              " 'Hosia',\n",
              " 'Semno',\n",
              " 'Oniomai',\n",
              " 'Eora',\n",
              " 'Hepatos',\n",
              " 'Rocamis',\n",
              " 'Etemo',\n",
              " 'Rrhske',\n",
              " 'Roihamallim',\n",
              " 'Elrobimiotia',\n",
              " 'Teneo',\n",
              " 'Hhatoo',\n",
              " 'Osoma',\n",
              " 'Exoumia',\n",
              " 'Uuidianohlom',\n",
              " 'Hapiros',\n",
              " 'Ecarieia',\n",
              " 'Hazios',\n",
              " 'Rhsrhoi',\n",
              " 'Gomia',\n",
              " 'Ruakeniexa',\n",
              " 'Texu',\n",
              " 'Ooamiinon',\n",
              " 'Kemmru',\n",
              " 'Ueceris',\n",
              " 'Raumaneiteo',\n",
              " 'Peucarrustia',\n",
              " 'Riatieo',\n",
              " 'Eengelloz',\n",
              " 'Epruntesteu',\n",
              " 'Gapemos',\n",
              " 'Likumaonaii',\n",
              " 'Oninos']"
            ]
          },
          "metadata": {
            "tags": []
          },
          "execution_count": 18
        }
      ]
    },
    {
      "cell_type": "code",
      "metadata": {
        "id": "s5-gIwfKGlKN",
        "colab_type": "code",
        "colab": {}
      },
      "source": [
        "gen.config.suffix = ' technologies'"
      ],
      "execution_count": 0,
      "outputs": []
    },
    {
      "cell_type": "code",
      "metadata": {
        "id": "gO0IeuRXGlEl",
        "colab_type": "code",
        "outputId": "da67550c-77b8-41e8-fde7-3c939a32ef3a",
        "colab": {
          "base_uri": "https://localhost:8080/",
          "height": 867
        }
      },
      "source": [
        "gen.simulate(n=50)"
      ],
      "execution_count": 0,
      "outputs": [
        {
          "output_type": "execute_result",
          "data": {
            "text/plain": [
              "['Deakonioso technologies',\n",
              " 'Atamoaa technologies',\n",
              " 'Ertanz technologies',\n",
              " 'Rrapnkumus technologies',\n",
              " 'Etoneo technologies',\n",
              " 'Idanei technologies',\n",
              " 'Ailon technologies',\n",
              " 'Adomintos technologies',\n",
              " 'Oiro technologies',\n",
              " 'Ohungos technologies',\n",
              " 'Pnostes technologies',\n",
              " 'Diskos technologies',\n",
              " 'Igazo technologies',\n",
              " 'Gerpo technologies',\n",
              " 'Ionneka technologies',\n",
              " 'Azho technologies',\n",
              " 'Pzeoko technologies',\n",
              " 'Omaniomos technologies',\n",
              " 'Oman technologies',\n",
              " 'Apethetloso technologies',\n",
              " 'Rnrus technologies',\n",
              " 'Gamo technologies',\n",
              " 'Dianhel technologies',\n",
              " 'Isokaa technologies',\n",
              " 'Riimonlos technologies',\n",
              " 'Gomao technologies',\n",
              " 'Nalhsmo technologies',\n",
              " 'Samio technologies',\n",
              " 'Iumageitaima technologies',\n",
              " 'Rhaumates technologies',\n",
              " 'Otaras technologies',\n",
              " 'Rpaduucsio technologies',\n",
              " 'Iatones technologies',\n",
              " 'Aikatolos technologies',\n",
              " 'Marutaneis technologies',\n",
              " 'Kepeuios technologies',\n",
              " 'Larmisuomaa technologies',\n",
              " 'Ralibeteima technologies',\n",
              " 'Sxus technologies',\n",
              " 'Baeiomhos technologies',\n",
              " 'Orsa technologies',\n",
              " 'Iuomaino technologies',\n",
              " 'Iaogoia technologies',\n",
              " 'Beungelistes technologies',\n",
              " 'Taman technologies',\n",
              " 'Gelos technologies',\n",
              " 'Ieron technologies',\n",
              " 'Khhpos technologies',\n",
              " 'Uratgnemomii technologies',\n",
              " 'Eekageiis technologies']"
            ]
          },
          "metadata": {
            "tags": []
          },
          "execution_count": 20
        }
      ]
    },
    {
      "cell_type": "code",
      "metadata": {
        "id": "hjgG4iCtGk9v",
        "colab_type": "code",
        "colab": {}
      },
      "source": [
        "gen.save('my_model', overwrite=True)"
      ],
      "execution_count": 0,
      "outputs": []
    },
    {
      "cell_type": "code",
      "metadata": {
        "id": "OM7tzN8BGk2i",
        "colab_type": "code",
        "outputId": "831b34e4-dabc-4530-e9b6-acf05191a20a",
        "colab": {
          "base_uri": "https://localhost:8080/",
          "height": 136
        }
      },
      "source": [
        "gen2 = sng.Generator.load('my_model')"
      ],
      "execution_count": 0,
      "outputs": [
        {
          "output_type": "stream",
          "text": [
            "154 words\n",
            "\n",
            "21 characters, including the \\n:\n",
            "['\\n', 'a', 'b', 'c', 'd', 'e', 'g', 'h', 'i', 'k', 'l', 'm', 'n', 'o', 'p', 'r', 's', 't', 'u', 'x', 'z']\n",
            "\n",
            "First two sample words:\n",
            "['didache\\n', 'grapho\\n']\n"
          ],
          "name": "stdout"
        }
      ]
    },
    {
      "cell_type": "code",
      "metadata": {
        "id": "sNdJnYCgGvFO",
        "colab_type": "code",
        "outputId": "9ad8a337-0b49-4a8c-e591-7885286ae67d",
        "colab": {
          "base_uri": "https://localhost:8080/",
          "height": 867
        }
      },
      "source": [
        "gen2.simulate(n=50)"
      ],
      "execution_count": 0,
      "outputs": [
        {
          "output_type": "execute_result",
          "data": {
            "text/plain": [
              "['Npattes technologies',\n",
              " 'Loumanteris technologies',\n",
              " 'Uhonais technologies',\n",
              " 'Karai technologies',\n",
              " 'Iolhos technologies',\n",
              " 'Shezao technologies',\n",
              " 'Edekatedos technologies',\n",
              " 'Homa technologies',\n",
              " 'Rrha technologies',\n",
              " 'Aletodaa technologies',\n",
              " 'Xrnrs technologies',\n",
              " 'Ghemo technologies',\n",
              " 'Opgos technologies',\n",
              " 'Potreu technologies',\n",
              " 'Iaponhos technologies',\n",
              " 'Hreta technologies',\n",
              " 'Leeceraii technologies',\n",
              " 'Rhanlis technologies',\n",
              " 'Kosgmos technologies',\n",
              " 'Hrss technologies',\n",
              " 'Ieskokos technologies',\n",
              " 'Tarates technologies',\n",
              " 'Kdapio technologies',\n",
              " 'Eoxgeii technologies',\n",
              " 'Lrosmami technologies',\n",
              " 'Handos technologies',\n",
              " 'Hogea technologies',\n",
              " 'Nhotos technologies',\n",
              " 'Oopaates technologies',\n",
              " 'Ahineos technologies',\n",
              " 'Ualiteiis technologies',\n",
              " 'Ionheon technologies',\n",
              " 'Iatoness technologies',\n",
              " 'Ebodlhlomte technologies',\n",
              " 'Ulosmoii technologies',\n",
              " 'Rhonas technologies',\n",
              " 'Ssto technologies',\n",
              " 'Eomakginoste technologies',\n",
              " 'Sikoma technologies',\n",
              " 'Odena technologies',\n",
              " 'Raso technologies',\n",
              " 'Pomauklelos technologies',\n",
              " 'Kadteima technologies',\n",
              " 'Rraimanmez technologies',\n",
              " 'Rhasto technologies',\n",
              " 'Ahemo technologies',\n",
              " 'Rhros technologies',\n",
              " 'Oenconis technologies',\n",
              " 'Aoleria technologies',\n",
              " 'Alosteai technologies']"
            ]
          },
          "metadata": {
            "tags": []
          },
          "execution_count": 23
        }
      ]
    },
    {
      "cell_type": "code",
      "metadata": {
        "id": "EiJZADKv8mjQ",
        "colab_type": "code",
        "outputId": "0456f575-fe81-46ec-f1c5-b0c09c98fc50",
        "colab": {
          "base_uri": "https://localhost:8080/",
          "height": 986
        }
      },
      "source": [
        "gen3 = sng.Generator.load('my_model')\n",
        "gen3.simulate(n=50)"
      ],
      "execution_count": 0,
      "outputs": [
        {
          "output_type": "stream",
          "text": [
            "154 words\n",
            "\n",
            "21 characters, including the \\n:\n",
            "['\\n', 'a', 'b', 'c', 'd', 'e', 'g', 'h', 'i', 'k', 'l', 'm', 'n', 'o', 'p', 'r', 's', 't', 'u', 'x', 'z']\n",
            "\n",
            "First two sample words:\n",
            "['didache\\n', 'grapho\\n']\n"
          ],
          "name": "stdout"
        },
        {
          "output_type": "execute_result",
          "data": {
            "text/plain": [
              "['Aunomatis technologies',\n",
              " 'Gadia technologies',\n",
              " 'Uhetes technologies',\n",
              " 'Uhatris technologies',\n",
              " 'Kroma technologies',\n",
              " 'Giso technologies',\n",
              " 'Ziso technologies',\n",
              " 'Eueniioso technologies',\n",
              " 'Reiichomii technologies',\n",
              " 'Uritema technologies',\n",
              " 'Sthema technologies',\n",
              " 'Orxa technologies',\n",
              " 'Onoman technologies',\n",
              " 'Oganiaz technologies',\n",
              " 'Senlio technologies',\n",
              " 'Ubonuis technologies',\n",
              " 'Elidras technologies',\n",
              " 'Taaphosto technologies',\n",
              " 'Ilomais technologies',\n",
              " 'Uaumicaipgel technologies',\n",
              " 'Erisbeolis technologies',\n",
              " 'Pesuotios technologies',\n",
              " 'Iononos technologies',\n",
              " 'Iposcos technologies',\n",
              " 'Hris technologies',\n",
              " 'Oiranos technologies',\n",
              " 'Hemei technologies',\n",
              " 'Hhastos technologies',\n",
              " 'Aelomiaii technologies',\n",
              " 'Couraimai technologies',\n",
              " 'Hros technologies',\n",
              " 'Eophesio technologies',\n",
              " 'Lapterea technologies',\n",
              " 'Oelisio technologies',\n",
              " 'Ophan technologies',\n",
              " 'Hostas technologies',\n",
              " 'Raugenon technologies',\n",
              " 'Haunaros technologies',\n",
              " 'Noimai technologies',\n",
              " 'Hatei technologies',\n",
              " 'Eigon technologies',\n",
              " 'Iatoneo technologies',\n",
              " 'Aunamomis technologies',\n",
              " 'Aganinos technologies',\n",
              " 'Hratos technologies',\n",
              " 'Hlesma technologies',\n",
              " 'Eion technologies',\n",
              " 'Anhuis technologies',\n",
              " 'Taima technologies',\n",
              " 'Agepos technologies']"
            ]
          },
          "metadata": {
            "tags": []
          },
          "execution_count": 24
        }
      ]
    }
  ]
}